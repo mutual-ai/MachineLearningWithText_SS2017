{
 "cells": [
  {
   "cell_type": "code",
   "execution_count": 63,
   "metadata": {},
   "outputs": [
    {
     "name": "stdout",
     "output_type": "stream",
     "text": [
      "Econstor.zip      -> yusuf dolu\n",
      "Reddit.zip        -> lars engellandt\n",
      "Job_Postings.zip  -> mats hester\n",
      "Stackoverflow.zip -> manuel wetzel\n",
      "NIPS.zip          -> markus bludau\n"
     ]
    }
   ],
   "source": [
    "from os import listdir\n",
    "import numpy as np\n",
    "\n",
    "students = ['markus bludau', 'lars engellandt', 'yusuf dolu', \n",
    "            'mats hester', 'manuel wetzel']\n",
    "tasks = [f for f in listdir('.') if f.endswith('.zip')]\n",
    "\n",
    "np.random.seed(21) # Half the answer to the Ultimate \n",
    "    Question of Life, the Universe and Everything\n",
    "np.random.shuffle(tasks)\n",
    "np.random.shuffle(students)\n",
    "\n",
    "for t, s in zip(tasks, students):\n",
    "    print('{:17} -> {}'.format(t, s))"
   ]
  }
 ],
 "metadata": {
  "kernelspec": {
   "display_name": "Python 3",
   "language": "python",
   "name": "python3"
  },
  "language_info": {
   "codemirror_mode": {
    "name": "ipython",
    "version": 3
   },
   "file_extension": ".py",
   "mimetype": "text/x-python",
   "name": "python",
   "nbconvert_exporter": "python",
   "pygments_lexer": "ipython3",
   "version": "3.6.1"
  }
 },
 "nbformat": 4,
 "nbformat_minor": 2
}
