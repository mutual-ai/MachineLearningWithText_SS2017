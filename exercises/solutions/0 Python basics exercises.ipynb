{
 "cells": [
  {
   "cell_type": "markdown",
   "metadata": {
    "deletable": true,
    "editable": true
   },
   "source": [
    "1\\. Define a function `maximum` that takes two numbers as arguments and returns the largest of them. Use the if-then-else construct available in Python. (It is true that Python has the max() function built in, but writing it yourself is nevertheless a good exercise.)"
   ]
  },
  {
   "cell_type": "code",
   "execution_count": null,
   "metadata": {
    "collapsed": true,
    "deletable": true,
    "editable": true
   },
   "outputs": [],
   "source": [
    "def maximum(x, y):\n",
    "    if x > y:\n",
    "        return x\n",
    "    else:\n",
    "        return y"
   ]
  },
  {
   "cell_type": "code",
   "execution_count": null,
   "metadata": {
    "collapsed": false,
    "deletable": true,
    "editable": true
   },
   "outputs": [],
   "source": [
    "assert maximum(3, 3) == 3\n",
    "assert maximum(1, 2) == 2\n",
    "assert maximum(3, 2) == 3"
   ]
  },
  {
   "cell_type": "markdown",
   "metadata": {
    "deletable": true,
    "editable": true
   },
   "source": [
    "2\\. Define a function `max_of_three` that takes three numbers as arguments and returns the largest of them."
   ]
  },
  {
   "cell_type": "code",
   "execution_count": null,
   "metadata": {
    "collapsed": false,
    "deletable": true,
    "editable": true
   },
   "outputs": [],
   "source": [
    "def max_of_three(x, y, z):\n",
    "    if x > y and x > z:\n",
    "        return x\n",
    "    elif y > x and y > z:\n",
    "        return y\n",
    "    elif z > x and z > y:\n",
    "        return z\n",
    "    else:\n",
    "        return x"
   ]
  },
  {
   "cell_type": "code",
   "execution_count": null,
   "metadata": {
    "collapsed": false,
    "deletable": true,
    "editable": true
   },
   "outputs": [],
   "source": [
    "assert max_of_three(1, 2, 3) == 3\n",
    "assert max_of_three(1, 1, 2) == 2\n",
    "assert max_of_three(2, 1 , .5) == 2\n",
    "assert max_of_three(0, 0, 0) == 0"
   ]
  },
  {
   "cell_type": "markdown",
   "metadata": {
    "deletable": true,
    "editable": true
   },
   "source": [
    "3\\. Define a function `length` that computes the length of a given list or string. (It is true that Python has the len() function built in, but writing it yourself is nevertheless a good exercise.)"
   ]
  },
  {
   "cell_type": "code",
   "execution_count": null,
   "metadata": {
    "collapsed": false,
    "deletable": true,
    "editable": true
   },
   "outputs": [],
   "source": [
    "def length(obj):\n",
    "    len = 0\n",
    "    for _ in obj:\n",
    "        len += 1\n",
    "    return len"
   ]
  },
  {
   "cell_type": "code",
   "execution_count": null,
   "metadata": {
    "collapsed": false,
    "deletable": true,
    "editable": true
   },
   "outputs": [],
   "source": [
    "assert length([1, 2, 3]) == 3\n",
    "assert length('this is some string') == 19"
   ]
  },
  {
   "cell_type": "markdown",
   "metadata": {
    "deletable": true,
    "editable": true
   },
   "source": [
    "4\\. Write a function `is_vowel` that takes a character (i.e. a string of length 1) and returns True if it is a vowel, False otherwise."
   ]
  },
  {
   "cell_type": "code",
   "execution_count": null,
   "metadata": {
    "collapsed": true,
    "deletable": true,
    "editable": true
   },
   "outputs": [],
   "source": [
    "def is_vowel(char):\n",
    "    return char in 'aeiou'"
   ]
  },
  {
   "cell_type": "code",
   "execution_count": null,
   "metadata": {
    "collapsed": false,
    "deletable": true,
    "editable": true
   },
   "outputs": [],
   "source": [
    "assert is_vowel('t') == False\n",
    "assert is_vowel('a') == True"
   ]
  },
  {
   "cell_type": "markdown",
   "metadata": {
    "deletable": true,
    "editable": true
   },
   "source": [
    "5\\. Define a function `accumulate` and a function `multiply` that sums and multiplies (respectively) all the numbers in a list of numbers. For example, sum([1, 2, 3, 4]) should return 10, and multiply([1, 2, 3, 4]) should return 24."
   ]
  },
  {
   "cell_type": "code",
   "execution_count": null,
   "metadata": {
    "collapsed": true,
    "deletable": true,
    "editable": true
   },
   "outputs": [],
   "source": [
    "def accumulate(obj):\n",
    "    res = 0\n",
    "    for num in obj:\n",
    "        res += num\n",
    "    return res\n",
    "\n",
    "def multiply(obj):\n",
    "    res = 1\n",
    "    for num in obj:\n",
    "        res *= num\n",
    "    return res"
   ]
  },
  {
   "cell_type": "code",
   "execution_count": null,
   "metadata": {
    "collapsed": false,
    "deletable": true,
    "editable": true
   },
   "outputs": [],
   "source": [
    "assert accumulate([1, 2, 3, 4]) == 10\n",
    "assert multiply([1, 2, 3, 4]) == 24"
   ]
  },
  {
   "cell_type": "markdown",
   "metadata": {
    "deletable": true,
    "editable": true
   },
   "source": [
    "A more elegant and generic solution is given hereafter. It uses a functional approach, as the function that is to be calculated is passed to the function:"
   ]
  },
  {
   "cell_type": "code",
   "execution_count": null,
   "metadata": {
    "collapsed": false,
    "deletable": true,
    "editable": true
   },
   "outputs": [],
   "source": [
    "from operator import add, mul\n",
    "\n",
    "def calc(obj, func):\n",
    "    res = None\n",
    "    if func == add:\n",
    "        res = 0\n",
    "    if func == mul:\n",
    "        res = 1\n",
    "    \n",
    "    for num in obj:\n",
    "        res = func(res, num)\n",
    "    \n",
    "    return res\n",
    "\n",
    "print(calc([1, 2, 3, 4], mul))\n",
    "print(calc([1, 2, 3, 4], add))"
   ]
  },
  {
   "cell_type": "markdown",
   "metadata": {
    "deletable": true,
    "editable": true
   },
   "source": [
    "6\\. Define a function `reverse` that computes the reversal of a string. For example, reverse(\"I am testing\") should return the string \"gnitset ma I\"."
   ]
  },
  {
   "cell_type": "code",
   "execution_count": null,
   "metadata": {
    "collapsed": true,
    "deletable": true,
    "editable": true
   },
   "outputs": [],
   "source": [
    "def reverse(s):\n",
    "    return ''.join([c for c in s[::-1]])"
   ]
  },
  {
   "cell_type": "code",
   "execution_count": null,
   "metadata": {
    "collapsed": false,
    "deletable": true,
    "editable": true
   },
   "outputs": [],
   "source": [
    "assert reverse('I am testing') == 'gnitset ma I'"
   ]
  },
  {
   "cell_type": "markdown",
   "metadata": {
    "deletable": true,
    "editable": true
   },
   "source": [
    "7\\. Define a function `is_palindrome` that recognizes palindromes (i.e. words that look the same written backwards). For example, is_palindrome(\"radar\") should return True."
   ]
  },
  {
   "cell_type": "code",
   "execution_count": null,
   "metadata": {
    "collapsed": true,
    "deletable": true,
    "editable": true
   },
   "outputs": [],
   "source": [
    "def is_palindrome(s):\n",
    "    return s == reverse(s)"
   ]
  },
  {
   "cell_type": "code",
   "execution_count": null,
   "metadata": {
    "collapsed": false,
    "deletable": true,
    "editable": true
   },
   "outputs": [],
   "source": [
    "assert is_palindrome('radar') == True\n",
    "assert is_palindrome('sonar') == False"
   ]
  },
  {
   "cell_type": "markdown",
   "metadata": {
    "deletable": true,
    "editable": true
   },
   "source": [
    "8\\. Write a function `is_member` that takes a value (i.e. a number, string, etc) `x` and a list of values `a`, and returns True if `x` is a member of `a`, False otherwise. (Note that this is exactly what the in operator does, but for the sake of the exercise you should pretend Python did not have this operator.)"
   ]
  },
  {
   "cell_type": "code",
   "execution_count": null,
   "metadata": {
    "collapsed": false,
    "deletable": true,
    "editable": true
   },
   "outputs": [],
   "source": [
    "def is_member(x, a):\n",
    "    for v in x:\n",
    "        if v == a:\n",
    "            return True\n",
    "    return False"
   ]
  },
  {
   "cell_type": "code",
   "execution_count": null,
   "metadata": {
    "collapsed": false,
    "deletable": true,
    "editable": true
   },
   "outputs": [],
   "source": [
    "assert is_member([1, 2, 3], 4) == False\n",
    "assert is_member([1, 2, 3], 2) == True"
   ]
  },
  {
   "cell_type": "markdown",
   "metadata": {
    "deletable": true,
    "editable": true
   },
   "source": [
    "9\\. Define a procedure `histogram` that takes a list of integers and prints a histogram to the screen. For example, histogram([4, 9, 7]) should print the following:\n",
    "\n",
    "```\n",
    "****\n",
    "*********\n",
    "*******\n",
    "```"
   ]
  },
  {
   "cell_type": "code",
   "execution_count": null,
   "metadata": {
    "collapsed": true,
    "deletable": true,
    "editable": true
   },
   "outputs": [],
   "source": [
    "def histogram(obj):\n",
    "    for n in obj:\n",
    "        print('*' * n, '\\n')"
   ]
  },
  {
   "cell_type": "code",
   "execution_count": null,
   "metadata": {
    "collapsed": false,
    "deletable": true,
    "editable": true
   },
   "outputs": [],
   "source": [
    "histogram([4, 9, 7])"
   ]
  },
  {
   "cell_type": "markdown",
   "metadata": {
    "deletable": true,
    "editable": true
   },
   "source": [
    "10\\. Write a function `filter_long_words` that takes a list of words and an integer `n` and returns the list of words that are longer than `n`."
   ]
  },
  {
   "cell_type": "code",
   "execution_count": null,
   "metadata": {
    "collapsed": true,
    "deletable": true,
    "editable": true
   },
   "outputs": [],
   "source": [
    "def filter_long_words(words, n):\n",
    "    return [word for word in words if len(word) >= n]"
   ]
  },
  {
   "cell_type": "code",
   "execution_count": null,
   "metadata": {
    "collapsed": false,
    "deletable": true,
    "editable": true
   },
   "outputs": [],
   "source": [
    "assert len(filter_long_words('this is some sentence'.split(), 3)) == 3"
   ]
  },
  {
   "cell_type": "markdown",
   "metadata": {
    "deletable": true,
    "editable": true
   },
   "source": [
    "11\\. A pangram is a sentence that contains all the letters of the English alphabet at least once, for example: \"The quick brown fox jumps over the lazy dog\". Your task here is to write a function `is_pangram` to check a sentence to see if it is a pangram or not."
   ]
  },
  {
   "cell_type": "code",
   "execution_count": null,
   "metadata": {
    "collapsed": false,
    "deletable": true,
    "editable": true
   },
   "outputs": [],
   "source": [
    "def is_pangram(sentence):\n",
    "    alphabet = set('a b c d e f g h i j k l m n o p q r s t u v w x y z'.split())\n",
    "    for char in sentence:\n",
    "        try:\n",
    "            alphabet.remove(char)\n",
    "        except KeyError:\n",
    "            pass\n",
    "    if len(alphabet) == 0:\n",
    "        return True\n",
    "    else:\n",
    "        return False"
   ]
  },
  {
   "cell_type": "code",
   "execution_count": null,
   "metadata": {
    "collapsed": false,
    "deletable": true,
    "editable": true
   },
   "outputs": [],
   "source": [
    "assert is_pangram('foo') == False\n",
    "assert is_pangram('The quick brown fox jumps over the lazy dog') == True"
   ]
  },
  {
   "cell_type": "markdown",
   "metadata": {
    "deletable": true,
    "editable": true
   },
   "source": [
    "12\\. Represent a small bilingual lexicon as a Python dictionary in the following fashion `{\"may\": \"möge\", \"the\": \"die\", \"force\": \"macht\", \"be\": \"sein\", \"with\": \"mit\", \"you\": \"dir\"}` and use it to translate the sentence \"may the force be with you\" from English into German. That is, write a function `translate` that takes a list of English words and returns a list of German words."
   ]
  },
  {
   "cell_type": "code",
   "execution_count": null,
   "metadata": {
    "collapsed": true,
    "deletable": true,
    "editable": true
   },
   "outputs": [],
   "source": [
    "def translate(eng):\n",
    "    dictionary = {\n",
    "        \"may\": \"möge\", \n",
    "        \"the\": \"die\", \n",
    "        \"force\": \"macht\", \n",
    "        \"be\": \"sein\", \n",
    "        \"with\": \"mit\", \n",
    "        \"you\": \"dir\"\n",
    "    }\n",
    "    ger = []\n",
    "    for word in eng:\n",
    "        if word in dictionary:\n",
    "            ger.append(dictionary[word])\n",
    "        else:\n",
    "            ger.append(word)\n",
    "    return ger"
   ]
  },
  {
   "cell_type": "code",
   "execution_count": null,
   "metadata": {
    "collapsed": false,
    "deletable": true,
    "editable": true
   },
   "outputs": [],
   "source": [
    "assert translate(\"may the force be with you\".split()) == ['möge', 'die', 'macht', 'sein', 'mit', 'dir']"
   ]
  },
  {
   "cell_type": "markdown",
   "metadata": {
    "deletable": true,
    "editable": true
   },
   "source": [
    "13\\. In cryptography, a Caesar cipher is a very simple encryption techniques in which each letter in the plain text is replaced by a letter some fixed number of positions down the alphabet. For example, with a shift of 3, A would be replaced by D, B would become E, and so on. The method is named after Julius Caesar, who used it to communicate with his generals. ROT-13 (\"rotate by 13 places\") is a widely used example of a Caesar cipher where the shift is 13. In Python, the key for ROT-13 may be represented by means of the following dictionary:\n",
    "```\n",
    "key = {'a':'n', 'b':'o', 'c':'p', 'd':'q', 'e':'r', 'f':'s', 'g':'t', 'h':'u', \n",
    "       'i':'v', 'j':'w', 'k':'x', 'l':'y', 'm':'z', 'n':'a', 'o':'b', 'p':'c', \n",
    "       'q':'d', 'r':'e', 's':'f', 't':'g', 'u':'h', 'v':'i', 'w':'j', 'x':'k',\n",
    "       'y':'l', 'z':'m', 'A':'N', 'B':'O', 'C':'P', 'D':'Q', 'E':'R', 'F':'S', \n",
    "       'G':'T', 'H':'U', 'I':'V', 'J':'W', 'K':'X', 'L':'Y', 'M':'Z', 'N':'A', \n",
    "       'O':'B', 'P':'C', 'Q':'D', 'R':'E', 'S':'F', 'T':'G', 'U':'H', 'V':'I', \n",
    "       'W':'J', 'X':'K', 'Y':'L', 'Z':'M'}\n",
    "```\n",
    "Your task in this exercise is to implement an encoder/decoder of ROT-13 called `rot13`. Once you're done, you will be able to read the following secret message:  \n",
    "```\n",
    "Pnrfne pvcure? V zhpu cersre Pnrfne fnynq!\n",
    "```\n",
    "Note that since English has 26 characters, your ROT-13 program will be able to both encode and decode texts written in English."
   ]
  },
  {
   "cell_type": "code",
   "execution_count": null,
   "metadata": {
    "collapsed": true,
    "deletable": true,
    "editable": true
   },
   "outputs": [],
   "source": [
    "def rot13(msg):\n",
    "    key = {'a':'n', 'b':'o', 'c':'p', 'd':'q', 'e':'r', 'f':'s', 'g':'t', 'h':'u', \n",
    "       'i':'v', 'j':'w', 'k':'x', 'l':'y', 'm':'z', 'n':'a', 'o':'b', 'p':'c', \n",
    "       'q':'d', 'r':'e', 's':'f', 't':'g', 'u':'h', 'v':'i', 'w':'j', 'x':'k',\n",
    "       'y':'l', 'z':'m', 'A':'N', 'B':'O', 'C':'P', 'D':'Q', 'E':'R', 'F':'S', \n",
    "       'G':'T', 'H':'U', 'I':'V', 'J':'W', 'K':'X', 'L':'Y', 'M':'Z', 'N':'A', \n",
    "       'O':'B', 'P':'C', 'Q':'D', 'R':'E', 'S':'F', 'T':'G', 'U':'H', 'V':'I', \n",
    "       'W':'J', 'X':'K', 'Y':'L', 'Z':'M'}\n",
    "    res = []\n",
    "    for char in msg:\n",
    "        if char in key:\n",
    "            res.append(key[char])\n",
    "        else:\n",
    "            res.append(char)\n",
    "    return ''.join(res)"
   ]
  },
  {
   "cell_type": "code",
   "execution_count": null,
   "metadata": {
    "collapsed": false,
    "deletable": true,
    "editable": true
   },
   "outputs": [],
   "source": [
    "text = 'this is some text'\n",
    "assert rot13(rot13(text)) == text"
   ]
  },
  {
   "cell_type": "markdown",
   "metadata": {
    "deletable": true,
    "editable": true
   },
   "source": [
    "14\\. Write a procedure `char_freq_table` that accepts the file name `material/jedi.txt` as argument, builds a frequency listing of the characters contained in the file, and prints a sorted and nicely formatted character frequency table to the screen."
   ]
  },
  {
   "cell_type": "code",
   "execution_count": 1,
   "metadata": {
    "collapsed": false,
    "deletable": true,
    "editable": true
   },
   "outputs": [],
   "source": [
    "from collections import defaultdict\n",
    "import string\n",
    "\n",
    "def char_freq_table(filename):\n",
    "    char_counter = defaultdict(int)\n",
    "    with open(filename) as fh:\n",
    "        text = fh.read()\n",
    "    \n",
    "    for character in text:\n",
    "        char_counter[character] += 1\n",
    "    \n",
    "    return char_counter\n",
    "\n",
    "frequencies = char_freq_table('material/jedi.txt')\n",
    "\n",
    "with open('jedi_frequencies.txt', 'w') as fh:\n",
    "    for k, v in frequencies.items():\n",
    "        if k in string.printable.replace('\\n', '') :\n",
    "            fh.writelines('| {} || {} |\\n'.format(k, v))"
   ]
  },
  {
   "cell_type": "code",
   "execution_count": 2,
   "metadata": {
    "collapsed": false,
    "deletable": true,
    "editable": true
   },
   "outputs": [
    {
     "name": "stdout",
     "output_type": "stream",
     "text": [
      "| T || 5 |\n",
      "| h || 34 |\n",
      "| e || 81 |\n",
      "|   || 129 |\n",
      "| J || 5 |\n",
      "| d || 26 |\n",
      "| i || 67 |\n",
      "| a || 62 |\n",
      "| r || 46 |\n",
      "| t || 57 |\n",
      "| m || 15 |\n",
      "| n || 43 |\n",
      "| p || 12 |\n",
      "| o || 47 |\n",
      "| g || 15 |\n",
      "| s || 49 |\n",
      "| S || 3 |\n",
      "| W || 2 |\n",
      "| u || 9 |\n",
      "| v || 12 |\n",
      "| . || 8 |\n",
      "| y || 11 |\n",
      "| c || 25 |\n",
      "| z || 3 |\n",
      "| w || 12 |\n",
      "| b || 5 |\n",
      "| k || 3 |\n",
      "| 2 || 1 |\n",
      "| 5 || 1 |\n",
      "| , || 12 |\n",
      "| 0 || 3 |\n",
      "| B || 5 |\n",
      "| Y || 2 |\n",
      "| ( || 1 |\n",
      "| f || 10 |\n",
      "| l || 28 |\n",
      "| ; || 1 |\n",
      "| D || 1 |\n",
      "| ) || 1 |\n",
      "| O || 1 |\n",
      "| : || 1 |\n",
      "| A || 1 |\n",
      "| ' || 1 |\n",
      "| - || 2 |\n",
      "\n"
     ]
    }
   ],
   "source": [
    "with open('material/jedi_frequencies.txt') as fh:\n",
    "    print(fh.read())"
   ]
  }
 ],
 "metadata": {
  "kernelspec": {
   "display_name": "Python 3",
   "language": "python",
   "name": "python3"
  },
  "language_info": {
   "codemirror_mode": {
    "name": "ipython",
    "version": 3
   },
   "file_extension": ".py",
   "mimetype": "text/x-python",
   "name": "python",
   "nbconvert_exporter": "python",
   "pygments_lexer": "ipython3",
   "version": "3.6.0"
  }
 },
 "nbformat": 4,
 "nbformat_minor": 2
}
