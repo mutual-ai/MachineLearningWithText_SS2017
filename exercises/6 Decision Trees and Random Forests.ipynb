{
 "cells": [
  {
   "cell_type": "markdown",
   "metadata": {
    "deletable": true,
    "editable": true
   },
   "source": [
    "Towards the end of \"3 Introduction to general Machine Learning\" a digit classification task was discussed.  \n",
    "Your task is to build a similar digit recongnizer, harnessing a `DecisionTreeClassifier` rather than a `GaussianNB` classifier. That includes:\n",
    "1. Importing the dataset\n",
    "2. Perform train-test-split\n",
    "3. Instantiate and train the classifier\n",
    "    * Find and tweak the hyperparameter to gain optimal results (try extreme values and see their influence)\n",
    "4. Print the confusion matrix (`from sklearn.metrics import confusion_matrix`) to visualize the model's weaknesses.\n",
    "5. Compare the result to the result achieved with the GaussianNB classifier."
   ]
  },
  {
   "cell_type": "markdown",
   "metadata": {
    "deletable": true,
    "editable": true
   },
   "source": [
    "## Import the dataset\n",
    "Reminder: you find it here: `from sklearn.datasets import load_digits`"
   ]
  },
  {
   "cell_type": "code",
   "execution_count": null,
   "metadata": {
    "collapsed": false,
    "deletable": true,
    "editable": true
   },
   "outputs": [],
   "source": []
  },
  {
   "cell_type": "markdown",
   "metadata": {
    "deletable": true,
    "editable": true
   },
   "source": [
    "## Train-test-split; Classifier training"
   ]
  },
  {
   "cell_type": "code",
   "execution_count": null,
   "metadata": {
    "collapsed": false,
    "deletable": true,
    "editable": true
   },
   "outputs": [],
   "source": []
  },
  {
   "cell_type": "markdown",
   "metadata": {
    "deletable": true,
    "editable": true
   },
   "source": [
    "## Confusion matrix"
   ]
  },
  {
   "cell_type": "code",
   "execution_count": null,
   "metadata": {
    "collapsed": false,
    "deletable": true,
    "editable": true
   },
   "outputs": [],
   "source": []
  }
 ],
 "metadata": {
  "kernelspec": {
   "display_name": "Python [conda env:ipynb3]",
   "language": "python",
   "name": "conda-env-ipynb3-py"
  },
  "language_info": {
   "codemirror_mode": {
    "name": "ipython",
    "version": 3
   },
   "file_extension": ".py",
   "mimetype": "text/x-python",
   "name": "python",
   "nbconvert_exporter": "python",
   "pygments_lexer": "ipython3",
   "version": "3.5.3"
  }
 },
 "nbformat": 4,
 "nbformat_minor": 2
}
