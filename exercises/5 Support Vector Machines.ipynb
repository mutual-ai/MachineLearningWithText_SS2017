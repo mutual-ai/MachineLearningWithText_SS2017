{
 "cells": [
  {
   "cell_type": "markdown",
   "metadata": {
    "deletable": true,
    "editable": true
   },
   "source": [
    "# SVM\n",
    "Repeat the task from the previous exercise (4 Introducing Scikit-Learn). But this time use a SVM classifier. To beat the results of the Gaussian Naive Bayes Classifier you wil have to find proper hyperparameter. Try varying the `kernel` and `C` parameter. Look into the documentation to find a list of the available kernels. Don't stop optimizing until you've achieved a perfect (i.e. accuracy 1.0) result. Use, once more, the `accuracy_score` method."
   ]
  },
  {
   "cell_type": "code",
   "execution_count": null,
   "metadata": {
    "collapsed": false,
    "deletable": true,
    "editable": true
   },
   "outputs": [],
   "source": []
  }
 ],
 "metadata": {
  "kernelspec": {
   "display_name": "Python 3",
   "language": "python",
   "name": "python3"
  },
  "language_info": {
   "codemirror_mode": {
    "name": "ipython",
    "version": 3
   },
   "file_extension": ".py",
   "mimetype": "text/x-python",
   "name": "python",
   "nbconvert_exporter": "python",
   "pygments_lexer": "ipython3",
   "version": "3.6.0"
  }
 },
 "nbformat": 4,
 "nbformat_minor": 2
}
